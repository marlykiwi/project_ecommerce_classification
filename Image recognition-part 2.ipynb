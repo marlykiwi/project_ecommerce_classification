{
 "cells": [
  {
   "cell_type": "markdown",
   "id": "3ca11537",
   "metadata": {},
   "source": [
    "### Image processing"
   ]
  },
  {
   "cell_type": "code",
   "execution_count": 1,
   "id": "b529ebe7",
   "metadata": {
    "scrolled": true
   },
   "outputs": [
    {
     "data": {
      "text/html": [
       "<div>\n",
       "<style scoped>\n",
       "    .dataframe tbody tr th:only-of-type {\n",
       "        vertical-align: middle;\n",
       "    }\n",
       "\n",
       "    .dataframe tbody tr th {\n",
       "        vertical-align: top;\n",
       "    }\n",
       "\n",
       "    .dataframe thead th {\n",
       "        text-align: right;\n",
       "    }\n",
       "</style>\n",
       "<table border=\"1\" class=\"dataframe\">\n",
       "  <thead>\n",
       "    <tr style=\"text-align: right;\">\n",
       "      <th></th>\n",
       "      <th>designation</th>\n",
       "      <th>description</th>\n",
       "      <th>productid</th>\n",
       "      <th>imageid</th>\n",
       "    </tr>\n",
       "  </thead>\n",
       "  <tbody>\n",
       "    <tr>\n",
       "      <th>0</th>\n",
       "      <td>Olivia: Personalisiertes Notizbuch / 150 Seite...</td>\n",
       "      <td>NaN</td>\n",
       "      <td>3804725264</td>\n",
       "      <td>1263597046</td>\n",
       "    </tr>\n",
       "    <tr>\n",
       "      <th>1</th>\n",
       "      <td>Journal Des Arts (Le) N° 133 Du 28/09/2001 - L...</td>\n",
       "      <td>NaN</td>\n",
       "      <td>436067568</td>\n",
       "      <td>1008141237</td>\n",
       "    </tr>\n",
       "    <tr>\n",
       "      <th>2</th>\n",
       "      <td>Grand Stylet Ergonomique Bleu Gamepad Nintendo...</td>\n",
       "      <td>PILOT STYLE Touch Pen de marque Speedlink est ...</td>\n",
       "      <td>201115110</td>\n",
       "      <td>938777978</td>\n",
       "    </tr>\n",
       "    <tr>\n",
       "      <th>3</th>\n",
       "      <td>Peluche Donald - Europe - Disneyland 2000 (Mar...</td>\n",
       "      <td>NaN</td>\n",
       "      <td>50418756</td>\n",
       "      <td>457047496</td>\n",
       "    </tr>\n",
       "    <tr>\n",
       "      <th>4</th>\n",
       "      <td>La Guerre Des Tuques</td>\n",
       "      <td>Luc a des id&amp;eacute;es de grandeur. Il veut or...</td>\n",
       "      <td>278535884</td>\n",
       "      <td>1077757786</td>\n",
       "    </tr>\n",
       "  </tbody>\n",
       "</table>\n",
       "</div>"
      ],
      "text/plain": [
       "                                         designation  \\\n",
       "0  Olivia: Personalisiertes Notizbuch / 150 Seite...   \n",
       "1  Journal Des Arts (Le) N° 133 Du 28/09/2001 - L...   \n",
       "2  Grand Stylet Ergonomique Bleu Gamepad Nintendo...   \n",
       "3  Peluche Donald - Europe - Disneyland 2000 (Mar...   \n",
       "4                               La Guerre Des Tuques   \n",
       "\n",
       "                                         description   productid     imageid  \n",
       "0                                                NaN  3804725264  1263597046  \n",
       "1                                                NaN   436067568  1008141237  \n",
       "2  PILOT STYLE Touch Pen de marque Speedlink est ...   201115110   938777978  \n",
       "3                                                NaN    50418756   457047496  \n",
       "4  Luc a des id&eacute;es de grandeur. Il veut or...   278535884  1077757786  "
      ]
     },
     "execution_count": 1,
     "metadata": {},
     "output_type": "execute_result"
    }
   ],
   "source": [
    "import pandas as pd\n",
    "df1 = pd.read_csv(\"Data/X_train_update.csv\", index_col = 0)\n",
    "df1.head()"
   ]
  },
  {
   "cell_type": "code",
   "execution_count": 2,
   "id": "ffe5a908",
   "metadata": {},
   "outputs": [
    {
     "data": {
      "text/html": [
       "<div>\n",
       "<style scoped>\n",
       "    .dataframe tbody tr th:only-of-type {\n",
       "        vertical-align: middle;\n",
       "    }\n",
       "\n",
       "    .dataframe tbody tr th {\n",
       "        vertical-align: top;\n",
       "    }\n",
       "\n",
       "    .dataframe thead th {\n",
       "        text-align: right;\n",
       "    }\n",
       "</style>\n",
       "<table border=\"1\" class=\"dataframe\">\n",
       "  <thead>\n",
       "    <tr style=\"text-align: right;\">\n",
       "      <th></th>\n",
       "      <th>prdtypecode</th>\n",
       "    </tr>\n",
       "  </thead>\n",
       "  <tbody>\n",
       "    <tr>\n",
       "      <th>0</th>\n",
       "      <td>10</td>\n",
       "    </tr>\n",
       "    <tr>\n",
       "      <th>1</th>\n",
       "      <td>2280</td>\n",
       "    </tr>\n",
       "    <tr>\n",
       "      <th>2</th>\n",
       "      <td>50</td>\n",
       "    </tr>\n",
       "    <tr>\n",
       "      <th>3</th>\n",
       "      <td>1280</td>\n",
       "    </tr>\n",
       "    <tr>\n",
       "      <th>4</th>\n",
       "      <td>2705</td>\n",
       "    </tr>\n",
       "  </tbody>\n",
       "</table>\n",
       "</div>"
      ],
      "text/plain": [
       "   prdtypecode\n",
       "0           10\n",
       "1         2280\n",
       "2           50\n",
       "3         1280\n",
       "4         2705"
      ]
     },
     "execution_count": 2,
     "metadata": {},
     "output_type": "execute_result"
    }
   ],
   "source": [
    "df2 = pd.read_csv(\"Data/Y_train_CVw08PX.csv\", index_col = 0)\n",
    "df2.head()"
   ]
  },
  {
   "cell_type": "code",
   "execution_count": 3,
   "id": "1571e284",
   "metadata": {},
   "outputs": [],
   "source": [
    "codes = sorted(list(set(df2[\"prdtypecode\"].values)))"
   ]
  },
  {
   "cell_type": "code",
   "execution_count": null,
   "id": "1bd9cda4",
   "metadata": {},
   "outputs": [],
   "source": [
    "len(codes)"
   ]
  },
  {
   "cell_type": "code",
   "execution_count": null,
   "id": "b5885068",
   "metadata": {},
   "outputs": [],
   "source": []
  },
  {
   "cell_type": "code",
   "execution_count": 4,
   "id": "e3b6eccd",
   "metadata": {},
   "outputs": [],
   "source": [
    "new_codes = [*range(27)]"
   ]
  },
  {
   "cell_type": "code",
   "execution_count": null,
   "id": "a5c91aea",
   "metadata": {},
   "outputs": [],
   "source": [
    "print(len(new_codes))"
   ]
  },
  {
   "cell_type": "code",
   "execution_count": 5,
   "id": "2126dcc1",
   "metadata": {},
   "outputs": [
    {
     "data": {
      "text/html": [
       "<div>\n",
       "<style scoped>\n",
       "    .dataframe tbody tr th:only-of-type {\n",
       "        vertical-align: middle;\n",
       "    }\n",
       "\n",
       "    .dataframe tbody tr th {\n",
       "        vertical-align: top;\n",
       "    }\n",
       "\n",
       "    .dataframe thead th {\n",
       "        text-align: right;\n",
       "    }\n",
       "</style>\n",
       "<table border=\"1\" class=\"dataframe\">\n",
       "  <thead>\n",
       "    <tr style=\"text-align: right;\">\n",
       "      <th></th>\n",
       "      <th>productid</th>\n",
       "      <th>imageid</th>\n",
       "      <th>prdtypecode</th>\n",
       "    </tr>\n",
       "  </thead>\n",
       "  <tbody>\n",
       "    <tr>\n",
       "      <th>0</th>\n",
       "      <td>3804725264</td>\n",
       "      <td>1263597046</td>\n",
       "      <td>10</td>\n",
       "    </tr>\n",
       "    <tr>\n",
       "      <th>1</th>\n",
       "      <td>436067568</td>\n",
       "      <td>1008141237</td>\n",
       "      <td>2280</td>\n",
       "    </tr>\n",
       "    <tr>\n",
       "      <th>2</th>\n",
       "      <td>201115110</td>\n",
       "      <td>938777978</td>\n",
       "      <td>50</td>\n",
       "    </tr>\n",
       "    <tr>\n",
       "      <th>3</th>\n",
       "      <td>50418756</td>\n",
       "      <td>457047496</td>\n",
       "      <td>1280</td>\n",
       "    </tr>\n",
       "    <tr>\n",
       "      <th>4</th>\n",
       "      <td>278535884</td>\n",
       "      <td>1077757786</td>\n",
       "      <td>2705</td>\n",
       "    </tr>\n",
       "  </tbody>\n",
       "</table>\n",
       "</div>"
      ],
      "text/plain": [
       "    productid     imageid  prdtypecode\n",
       "0  3804725264  1263597046           10\n",
       "1   436067568  1008141237         2280\n",
       "2   201115110   938777978           50\n",
       "3    50418756   457047496         1280\n",
       "4   278535884  1077757786         2705"
      ]
     },
     "execution_count": 5,
     "metadata": {},
     "output_type": "execute_result"
    }
   ],
   "source": [
    "df = pd.concat([df1[\"productid\"], df1[\"imageid\"], df2[\"prdtypecode\"]], axis = 1)\n",
    "df.head()"
   ]
  },
  {
   "cell_type": "code",
   "execution_count": 6,
   "id": "c4a3b496",
   "metadata": {
    "scrolled": false
   },
   "outputs": [
    {
     "data": {
      "text/html": [
       "<div>\n",
       "<style scoped>\n",
       "    .dataframe tbody tr th:only-of-type {\n",
       "        vertical-align: middle;\n",
       "    }\n",
       "\n",
       "    .dataframe tbody tr th {\n",
       "        vertical-align: top;\n",
       "    }\n",
       "\n",
       "    .dataframe thead th {\n",
       "        text-align: right;\n",
       "    }\n",
       "</style>\n",
       "<table border=\"1\" class=\"dataframe\">\n",
       "  <thead>\n",
       "    <tr style=\"text-align: right;\">\n",
       "      <th></th>\n",
       "      <th>productid</th>\n",
       "      <th>imageid</th>\n",
       "      <th>prdtypecode</th>\n",
       "      <th>img</th>\n",
       "    </tr>\n",
       "  </thead>\n",
       "  <tbody>\n",
       "    <tr>\n",
       "      <th>0</th>\n",
       "      <td>3804725264</td>\n",
       "      <td>1263597046</td>\n",
       "      <td>10</td>\n",
       "      <td>image_1263597046_product_3804725264.jpg</td>\n",
       "    </tr>\n",
       "    <tr>\n",
       "      <th>1</th>\n",
       "      <td>436067568</td>\n",
       "      <td>1008141237</td>\n",
       "      <td>2280</td>\n",
       "      <td>image_1008141237_product_436067568.jpg</td>\n",
       "    </tr>\n",
       "    <tr>\n",
       "      <th>2</th>\n",
       "      <td>201115110</td>\n",
       "      <td>938777978</td>\n",
       "      <td>50</td>\n",
       "      <td>image_938777978_product_201115110.jpg</td>\n",
       "    </tr>\n",
       "    <tr>\n",
       "      <th>3</th>\n",
       "      <td>50418756</td>\n",
       "      <td>457047496</td>\n",
       "      <td>1280</td>\n",
       "      <td>image_457047496_product_50418756.jpg</td>\n",
       "    </tr>\n",
       "    <tr>\n",
       "      <th>4</th>\n",
       "      <td>278535884</td>\n",
       "      <td>1077757786</td>\n",
       "      <td>2705</td>\n",
       "      <td>image_1077757786_product_278535884.jpg</td>\n",
       "    </tr>\n",
       "  </tbody>\n",
       "</table>\n",
       "</div>"
      ],
      "text/plain": [
       "    productid     imageid  prdtypecode  \\\n",
       "0  3804725264  1263597046           10   \n",
       "1   436067568  1008141237         2280   \n",
       "2   201115110   938777978           50   \n",
       "3    50418756   457047496         1280   \n",
       "4   278535884  1077757786         2705   \n",
       "\n",
       "                                       img  \n",
       "0  image_1263597046_product_3804725264.jpg  \n",
       "1   image_1008141237_product_436067568.jpg  \n",
       "2    image_938777978_product_201115110.jpg  \n",
       "3     image_457047496_product_50418756.jpg  \n",
       "4   image_1077757786_product_278535884.jpg  "
      ]
     },
     "execution_count": 6,
     "metadata": {},
     "output_type": "execute_result"
    }
   ],
   "source": [
    "df[\"img\"] = df.astype(\"str\").apply(lambda row: \"image_\" + row[\"imageid\"]+ \"_product_\" + row[\"productid\"] + \".jpg\", axis=1)\n",
    "df.head()"
   ]
  },
  {
   "cell_type": "code",
   "execution_count": 7,
   "id": "bbe7c60a",
   "metadata": {},
   "outputs": [],
   "source": [
    "df[\"codes\"] = df[\"prdtypecode\"].replace(to_replace = codes, value = new_codes)"
   ]
  },
  {
   "cell_type": "code",
   "execution_count": null,
   "id": "438a0b65",
   "metadata": {},
   "outputs": [],
   "source": [
    "#df[\"codes\"] = df[\"codes\"]/100"
   ]
  },
  {
   "cell_type": "code",
   "execution_count": 8,
   "id": "b46b4e23",
   "metadata": {
    "scrolled": false
   },
   "outputs": [
    {
     "data": {
      "text/html": [
       "<div>\n",
       "<style scoped>\n",
       "    .dataframe tbody tr th:only-of-type {\n",
       "        vertical-align: middle;\n",
       "    }\n",
       "\n",
       "    .dataframe tbody tr th {\n",
       "        vertical-align: top;\n",
       "    }\n",
       "\n",
       "    .dataframe thead th {\n",
       "        text-align: right;\n",
       "    }\n",
       "</style>\n",
       "<table border=\"1\" class=\"dataframe\">\n",
       "  <thead>\n",
       "    <tr style=\"text-align: right;\">\n",
       "      <th></th>\n",
       "      <th>productid</th>\n",
       "      <th>imageid</th>\n",
       "      <th>prdtypecode</th>\n",
       "      <th>img</th>\n",
       "      <th>codes</th>\n",
       "    </tr>\n",
       "  </thead>\n",
       "  <tbody>\n",
       "    <tr>\n",
       "      <th>0</th>\n",
       "      <td>3804725264</td>\n",
       "      <td>1263597046</td>\n",
       "      <td>10</td>\n",
       "      <td>image_1263597046_product_3804725264.jpg</td>\n",
       "      <td>0</td>\n",
       "    </tr>\n",
       "    <tr>\n",
       "      <th>1</th>\n",
       "      <td>436067568</td>\n",
       "      <td>1008141237</td>\n",
       "      <td>2280</td>\n",
       "      <td>image_1008141237_product_436067568.jpg</td>\n",
       "      <td>18</td>\n",
       "    </tr>\n",
       "    <tr>\n",
       "      <th>2</th>\n",
       "      <td>201115110</td>\n",
       "      <td>938777978</td>\n",
       "      <td>50</td>\n",
       "      <td>image_938777978_product_201115110.jpg</td>\n",
       "      <td>2</td>\n",
       "    </tr>\n",
       "    <tr>\n",
       "      <th>3</th>\n",
       "      <td>50418756</td>\n",
       "      <td>457047496</td>\n",
       "      <td>1280</td>\n",
       "      <td>image_457047496_product_50418756.jpg</td>\n",
       "      <td>7</td>\n",
       "    </tr>\n",
       "    <tr>\n",
       "      <th>4</th>\n",
       "      <td>278535884</td>\n",
       "      <td>1077757786</td>\n",
       "      <td>2705</td>\n",
       "      <td>image_1077757786_product_278535884.jpg</td>\n",
       "      <td>25</td>\n",
       "    </tr>\n",
       "  </tbody>\n",
       "</table>\n",
       "</div>"
      ],
      "text/plain": [
       "    productid     imageid  prdtypecode  \\\n",
       "0  3804725264  1263597046           10   \n",
       "1   436067568  1008141237         2280   \n",
       "2   201115110   938777978           50   \n",
       "3    50418756   457047496         1280   \n",
       "4   278535884  1077757786         2705   \n",
       "\n",
       "                                       img  codes  \n",
       "0  image_1263597046_product_3804725264.jpg      0  \n",
       "1   image_1008141237_product_436067568.jpg     18  \n",
       "2    image_938777978_product_201115110.jpg      2  \n",
       "3     image_457047496_product_50418756.jpg      7  \n",
       "4   image_1077757786_product_278535884.jpg     25  "
      ]
     },
     "execution_count": 8,
     "metadata": {},
     "output_type": "execute_result"
    }
   ],
   "source": [
    "df.head()"
   ]
  },
  {
   "cell_type": "code",
   "execution_count": 9,
   "id": "77b0764e",
   "metadata": {},
   "outputs": [],
   "source": [
    "import numpy as np"
   ]
  },
  {
   "cell_type": "code",
   "execution_count": 10,
   "id": "f2d497af",
   "metadata": {},
   "outputs": [],
   "source": [
    "from tensorflow import keras"
   ]
  },
  {
   "cell_type": "code",
   "execution_count": 11,
   "id": "b4078254",
   "metadata": {},
   "outputs": [],
   "source": [
    "from tensorflow.keras.models import Sequential\n",
    "from tensorflow.keras.layers import Conv2D, MaxPooling2D,GlobalAveragePooling2D,Dropout, Flatten, Dense\n",
    "from tensorflow.keras import regularizers\n",
    "from tensorflow.keras.optimizers import SGD\n",
    "from tensorflow.keras.preprocessing.image import ImageDataGenerator"
   ]
  },
  {
   "cell_type": "code",
   "execution_count": 12,
   "id": "2674d42c",
   "metadata": {},
   "outputs": [],
   "source": [
    "from sklearn.preprocessing import LabelEncoder # one-hot encoding for age\n",
    "from keras.utils import to_categorical\n",
    "\n"
   ]
  },
  {
   "cell_type": "code",
   "execution_count": 13,
   "id": "e4a75c0e",
   "metadata": {},
   "outputs": [],
   "source": [
    "from PIL import Image \n",
    "import matplotlib.image as mpimg\n",
    "import matplotlib.pyplot as plt\n",
    "from sklearn.model_selection import train_test_split\n",
    "import os\n",
    "\n",
    "image_path = 'image_train/'"
   ]
  },
  {
   "cell_type": "code",
   "execution_count": 14,
   "id": "b3bd34c6",
   "metadata": {},
   "outputs": [
    {
     "data": {
      "image/png": "[encoded data removed]",
      "text/plain": [
       "<Figure size 720x720 with 6 Axes>"
      ]
     },
     "metadata": {
      "needs_background": "light"
     },
     "output_type": "display_data"
    }
   ],
   "source": [
    "number_of_images = 6 #Définir le nombre x d'images à afficher \n",
    "plt.figure(figsize=(10,10))\n",
    "images = os.listdir(image_path)[:number_of_images] # Selectionner aléatoirement x images\n",
    "for i in range(number_of_images):\n",
    "    file = mpimg.imread(image_path + df[\"img\"][i])\n",
    "    plt.subplot(3, 2, i+1)\n",
    "    plt.axis('off')\n",
    "    plt.imshow(file)\n",
    "\n"
   ]
  },
  {
   "cell_type": "code",
   "execution_count": null,
   "id": "5df387b6",
   "metadata": {},
   "outputs": [],
   "source": [
    "X = []\n",
    "Y = []\n",
    "width = 50\n",
    "height = 50\n",
    "\n",
    "for ind in range(len(df[\"img\"])):\n",
    "    file_path = image_path + df[\"img\"][ind] + \".jpg\"\n",
    "    image = Image.open(file_path)\n",
    "    image = image.convert('RGB')\n",
    "    image = image.resize((width, height))\n",
    "    X.append(np.array(image))\n",
    "    #Y.append(df[\"prdtypecode\"][ind])\n",
    "    Y.append(df[\"codes\"][ind])"
   ]
  },
  {
   "cell_type": "code",
   "execution_count": null,
   "id": "b02eeac3",
   "metadata": {},
   "outputs": [],
   "source": [
    "print(Y[0])"
   ]
  },
  {
   "cell_type": "code",
   "execution_count": null,
   "id": "4dd75df5",
   "metadata": {},
   "outputs": [],
   "source": [
    "X = np.array(X)\n",
    "X = X.astype(\"float32\")\n",
    "X /= 255.0\n",
    "print(\"Min: %.3f, Max: %.3f\" % (X.min(), X.max()))\n",
    "Y = np.array(Y)"
   ]
  },
  {
   "cell_type": "code",
   "execution_count": null,
   "id": "43fb6d4b",
   "metadata": {},
   "outputs": [],
   "source": [
    "from sklearn.preprocessing import OrdinalEncoder\n",
    "encoder = OrdinalEncoder()\n",
    "Y = encoder.fit_transform(Y.reshape(-1,1))"
   ]
  },
  {
   "cell_type": "code",
   "execution_count": null,
   "id": "7171e0f8",
   "metadata": {},
   "outputs": [],
   "source": [
    "print(Y.shape)"
   ]
  },
  {
   "cell_type": "code",
   "execution_count": null,
   "id": "b69500e4",
   "metadata": {},
   "outputs": [],
   "source": [
    "X_train, X_test, y_train, y_test = train_test_split(X, Y, test_size = 0.2, random_state = 42, shuffle = True, stratify = Y)"
   ]
  },
  {
   "cell_type": "code",
   "execution_count": null,
   "id": "c0c11fe2",
   "metadata": {},
   "outputs": [],
   "source": [
    "train_datagen = ImageDataGenerator(\n",
    "    shear_range = 0.2,\n",
    "    zoom_range = 0.2,\n",
    "    horizontal_flip = True)\n",
    "test_datagen = ImageDataGenerator()"
   ]
  },
  {
   "cell_type": "code",
   "execution_count": null,
   "id": "98efa111",
   "metadata": {},
   "outputs": [],
   "source": [
    "train_dataset = train_datagen.flow(X_train, y_train, batch_size = 128)\n",
    "test_dataset = test_datagen.flow(X_test, y_test, batch_size = 128)"
   ]
  },
  {
   "cell_type": "code",
   "execution_count": null,
   "id": "78618bb1",
   "metadata": {},
   "outputs": [],
   "source": [
    "model1 = Sequential()\n",
    "model1.add(Conv2D(32, (2, 2), activation = 'relu', padding = \"valid\", input_shape = (50, 50, 3)))\n",
    "model1.add(MaxPooling2D(2,2))\n",
    "model1.add(Conv2D(32, (2, 2), activation = 'relu'))\n",
    "model1.add(MaxPooling2D(2,2))\n",
    "#model1.add(Dropout(rate = 0.2))\n",
    "model1.add(Flatten())\n",
    "model1.add(Dense(128, activation=\"relu\"))\n",
    "model1.add(Dense(27, activation=\"softmax\"))"
   ]
  },
  {
   "cell_type": "code",
   "execution_count": null,
   "id": "38cf98f9",
   "metadata": {},
   "outputs": [],
   "source": [
    "model1.summary()"
   ]
  },
  {
   "cell_type": "code",
   "execution_count": null,
   "id": "725ae225",
   "metadata": {},
   "outputs": [],
   "source": []
  },
  {
   "cell_type": "code",
   "execution_count": null,
   "id": "39a5ce14",
   "metadata": {},
   "outputs": [],
   "source": [
    "model1.compile(optimizer=\"adam\",loss=\"sparse_categorical_crossentropy\",metrics=['accuracy'])\n",
    "#model.compile(optimizer=\"adam\",loss=\"mse\",metrics=['mean_absolute_error'])"
   ]
  },
  {
   "cell_type": "code",
   "execution_count": null,
   "id": "cf0080c6",
   "metadata": {
    "scrolled": true
   },
   "outputs": [],
   "source": [
    "batch_size = 128\n",
    "epochs = 15 \n",
    "model1_history = model1.fit_generator(\n",
    "            train_dataset, # use augmented images for train \n",
    "            steps_per_epoch=X_train.shape[0] // batch_size,\n",
    "            validation_data = test_dataset, # use augmented images for test\n",
    "            epochs = epochs,\n",
    "            verbose=True)"
   ]
  },
  {
   "cell_type": "code",
   "execution_count": null,
   "id": "72d8cc12",
   "metadata": {},
   "outputs": [],
   "source": [
    "train_acc = model1_history.history['accuracy']\n",
    "val_acc = model1_history.history['val_accuracy']"
   ]
  },
  {
   "cell_type": "code",
   "execution_count": null,
   "id": "84b0991f",
   "metadata": {},
   "outputs": [],
   "source": [
    "plt.xlabel(\"Epochs\")\n",
    "plt.ylabel(\"Accuracy\")\n",
    "\n",
    "plt.plot(np.arange(1,16,1),\n",
    "        train_acc,\n",
    "        label = \"Training Accuracy\",\n",
    "        color = \"blue\")\n",
    "plt.plot(np.arange(1, 16, 1),\n",
    "        val_acc,\n",
    "        label = \"Validation Accuracy\",\n",
    "        color = \"red\")\n",
    "\n",
    "plt.legend()\n",
    "plt.show()"
   ]
  },
  {
   "cell_type": "code",
   "execution_count": null,
   "id": "cac46c4f",
   "metadata": {},
   "outputs": [],
   "source": [
    "from sklearn import metrics\n",
    "from sklearn.metrics import classification_report, confusion_matrix"
   ]
  },
  {
   "cell_type": "code",
   "execution_count": null,
   "id": "0a94b02d",
   "metadata": {
    "scrolled": true
   },
   "outputs": [],
   "source": [
    "test_pred = model1.predict(X_test)"
   ]
  },
  {
   "cell_type": "code",
   "execution_count": null,
   "id": "e666a94f",
   "metadata": {},
   "outputs": [],
   "source": [
    "y_pred_class = np.argmax(test_pred, axis = 1)"
   ]
  },
  {
   "cell_type": "code",
   "execution_count": null,
   "id": "6b033b7d",
   "metadata": {},
   "outputs": [],
   "source": []
  },
  {
   "cell_type": "code",
   "execution_count": null,
   "id": "daf35adc",
   "metadata": {},
   "outputs": [],
   "source": [
    "\n",
    "print(metrics.classification_report(y_test, y_pred_class))"
   ]
  },
  {
   "cell_type": "code",
   "execution_count": null,
   "id": "34181e3d",
   "metadata": {},
   "outputs": [],
   "source": [
    "y_test_1 = y_test.reshape(-1)"
   ]
  },
  {
   "cell_type": "code",
   "execution_count": null,
   "id": "3d7a7dbf",
   "metadata": {},
   "outputs": [],
   "source": [
    "pd.crosstab(y_test_1, y_pred_class, rownames = [\"Current class\"], colnames = [\"Predicted class\"])"
   ]
  },
  {
   "cell_type": "code",
   "execution_count": null,
   "id": "604a502b",
   "metadata": {},
   "outputs": [],
   "source": []
  },
  {
   "cell_type": "markdown",
   "id": "2cd9bcfd",
   "metadata": {},
   "source": [
    "## Bounding box"
   ]
  },
  {
   "cell_type": "code",
   "execution_count": 16,
   "id": "a9220c3f",
   "metadata": {},
   "outputs": [],
   "source": [
    "import cv2 "
   ]
  },
  {
   "cell_type": "code",
   "execution_count": 17,
   "id": "00a10d14",
   "metadata": {},
   "outputs": [],
   "source": [
    "img_0 = cv2.imread(image_path + df[\"img\"][21624])"
   ]
  },
  {
   "cell_type": "code",
   "execution_count": 18,
   "id": "a8a5f9c0",
   "metadata": {
    "scrolled": true
   },
   "outputs": [
    {
     "data": {
      "text/plain": [
       "<matplotlib.image.AxesImage at 0x7fde482f8cd0>"
      ]
     },
     "execution_count": 18,
     "metadata": {},
     "output_type": "execute_result"
    },
    {
     "data": {
      "image/png": "[encoded data removed]",
      "text/plain": [
       "<Figure size 432x288 with 1 Axes>"
      ]
     },
     "metadata": {
      "needs_background": "light"
     },
     "output_type": "display_data"
    }
   ],
   "source": [
    "plt.imshow(img_0)"
   ]
  },
  {
   "cell_type": "code",
   "execution_count": 37,
   "id": "dd84b807",
   "metadata": {
    "scrolled": true
   },
   "outputs": [],
   "source": [
    "## Run this cell to store all images with bounding boxes locally in the folder bb\n",
    "res_list = []\n",
    "for el in df[\"img\"]:\n",
    "    res_list.append(contouring(el))"
   ]
  },
  {
   "cell_type": "code",
   "execution_count": 38,
   "id": "e54161e5",
   "metadata": {
    "scrolled": false
   },
   "outputs": [
    {
     "data": {
      "text/plain": [
       "[[183, 316, 150, 350],\n",
       " [160, 340, 119, 380],\n",
       " [75, 424, 70, 428],\n",
       " [84, 416, 57, 442],\n",
       " [161, 338, 100, 395],\n",
       " [88, 411, 12, 487],\n",
       " [165, 335, 120, 380],\n",
       " [106, 399, 8, 494],\n",
       " [62, 437, 0, 500],\n",
       " [26, 476, 76, 403]]"
      ]
     },
     "execution_count": 38,
     "metadata": {},
     "output_type": "execute_result"
    }
   ],
   "source": [
    "res_list[:10]"
   ]
  },
  {
   "cell_type": "code",
   "execution_count": 44,
   "id": "382fe6d7",
   "metadata": {},
   "outputs": [],
   "source": [
    "x1 = []\n",
    "x2 = []\n",
    "y1 = []\n",
    "y2 = []\n",
    "for it in res_list:\n",
    "    x1.append(it[0])\n",
    "    x2.append(it[1])\n",
    "    y1.append(it[2])\n",
    "    y2.append(it[3])"
   ]
  },
  {
   "cell_type": "code",
   "execution_count": 45,
   "id": "d38439e0",
   "metadata": {},
   "outputs": [],
   "source": [
    "df[\"x1\"] = x1"
   ]
  },
  {
   "cell_type": "code",
   "execution_count": 46,
   "id": "2f48b0d8",
   "metadata": {},
   "outputs": [],
   "source": [
    "df[\"x2\"] = x2"
   ]
  },
  {
   "cell_type": "code",
   "execution_count": 47,
   "id": "b62ca28d",
   "metadata": {},
   "outputs": [],
   "source": [
    "df[\"y1\"] = y1\n",
    "df[\"y2\"] = y2"
   ]
  },
  {
   "cell_type": "code",
   "execution_count": 48,
   "id": "4208c0b6",
   "metadata": {},
   "outputs": [
    {
     "data": {
      "text/html": [
       "<div>\n",
       "<style scoped>\n",
       "    .dataframe tbody tr th:only-of-type {\n",
       "        vertical-align: middle;\n",
       "    }\n",
       "\n",
       "    .dataframe tbody tr th {\n",
       "        vertical-align: top;\n",
       "    }\n",
       "\n",
       "    .dataframe thead th {\n",
       "        text-align: right;\n",
       "    }\n",
       "</style>\n",
       "<table border=\"1\" class=\"dataframe\">\n",
       "  <thead>\n",
       "    <tr style=\"text-align: right;\">\n",
       "      <th></th>\n",
       "      <th>productid</th>\n",
       "      <th>imageid</th>\n",
       "      <th>prdtypecode</th>\n",
       "      <th>img</th>\n",
       "      <th>codes</th>\n",
       "      <th>x1</th>\n",
       "      <th>x2</th>\n",
       "      <th>y1</th>\n",
       "      <th>y2</th>\n",
       "    </tr>\n",
       "  </thead>\n",
       "  <tbody>\n",
       "    <tr>\n",
       "      <th>0</th>\n",
       "      <td>3804725264</td>\n",
       "      <td>1263597046</td>\n",
       "      <td>10</td>\n",
       "      <td>image_1263597046_product_3804725264.jpg</td>\n",
       "      <td>0</td>\n",
       "      <td>183</td>\n",
       "      <td>316</td>\n",
       "      <td>150</td>\n",
       "      <td>350</td>\n",
       "    </tr>\n",
       "    <tr>\n",
       "      <th>1</th>\n",
       "      <td>436067568</td>\n",
       "      <td>1008141237</td>\n",
       "      <td>2280</td>\n",
       "      <td>image_1008141237_product_436067568.jpg</td>\n",
       "      <td>18</td>\n",
       "      <td>160</td>\n",
       "      <td>340</td>\n",
       "      <td>119</td>\n",
       "      <td>380</td>\n",
       "    </tr>\n",
       "    <tr>\n",
       "      <th>2</th>\n",
       "      <td>201115110</td>\n",
       "      <td>938777978</td>\n",
       "      <td>50</td>\n",
       "      <td>image_938777978_product_201115110.jpg</td>\n",
       "      <td>2</td>\n",
       "      <td>75</td>\n",
       "      <td>424</td>\n",
       "      <td>70</td>\n",
       "      <td>428</td>\n",
       "    </tr>\n",
       "    <tr>\n",
       "      <th>3</th>\n",
       "      <td>50418756</td>\n",
       "      <td>457047496</td>\n",
       "      <td>1280</td>\n",
       "      <td>image_457047496_product_50418756.jpg</td>\n",
       "      <td>7</td>\n",
       "      <td>84</td>\n",
       "      <td>416</td>\n",
       "      <td>57</td>\n",
       "      <td>442</td>\n",
       "    </tr>\n",
       "    <tr>\n",
       "      <th>4</th>\n",
       "      <td>278535884</td>\n",
       "      <td>1077757786</td>\n",
       "      <td>2705</td>\n",
       "      <td>image_1077757786_product_278535884.jpg</td>\n",
       "      <td>25</td>\n",
       "      <td>161</td>\n",
       "      <td>338</td>\n",
       "      <td>100</td>\n",
       "      <td>395</td>\n",
       "    </tr>\n",
       "  </tbody>\n",
       "</table>\n",
       "</div>"
      ],
      "text/plain": [
       "    productid     imageid  prdtypecode  \\\n",
       "0  3804725264  1263597046           10   \n",
       "1   436067568  1008141237         2280   \n",
       "2   201115110   938777978           50   \n",
       "3    50418756   457047496         1280   \n",
       "4   278535884  1077757786         2705   \n",
       "\n",
       "                                       img  codes   x1   x2   y1   y2  \n",
       "0  image_1263597046_product_3804725264.jpg      0  183  316  150  350  \n",
       "1   image_1008141237_product_436067568.jpg     18  160  340  119  380  \n",
       "2    image_938777978_product_201115110.jpg      2   75  424   70  428  \n",
       "3     image_457047496_product_50418756.jpg      7   84  416   57  442  \n",
       "4   image_1077757786_product_278535884.jpg     25  161  338  100  395  "
      ]
     },
     "execution_count": 48,
     "metadata": {},
     "output_type": "execute_result"
    }
   ],
   "source": [
    "df.head()"
   ]
  },
  {
   "cell_type": "code",
   "execution_count": 49,
   "id": "54edd755",
   "metadata": {},
   "outputs": [
    {
     "data": {
      "text/html": [
       "<div>\n",
       "<style scoped>\n",
       "    .dataframe tbody tr th:only-of-type {\n",
       "        vertical-align: middle;\n",
       "    }\n",
       "\n",
       "    .dataframe tbody tr th {\n",
       "        vertical-align: top;\n",
       "    }\n",
       "\n",
       "    .dataframe thead th {\n",
       "        text-align: right;\n",
       "    }\n",
       "</style>\n",
       "<table border=\"1\" class=\"dataframe\">\n",
       "  <thead>\n",
       "    <tr style=\"text-align: right;\">\n",
       "      <th></th>\n",
       "      <th>prdtypecode</th>\n",
       "      <th>codes</th>\n",
       "      <th>img</th>\n",
       "      <th>x1</th>\n",
       "      <th>x2</th>\n",
       "      <th>y1</th>\n",
       "      <th>y2</th>\n",
       "    </tr>\n",
       "  </thead>\n",
       "  <tbody>\n",
       "    <tr>\n",
       "      <th>0</th>\n",
       "      <td>10</td>\n",
       "      <td>0</td>\n",
       "      <td>image_1263597046_product_3804725264.jpg</td>\n",
       "      <td>183</td>\n",
       "      <td>316</td>\n",
       "      <td>150</td>\n",
       "      <td>350</td>\n",
       "    </tr>\n",
       "    <tr>\n",
       "      <th>1</th>\n",
       "      <td>2280</td>\n",
       "      <td>18</td>\n",
       "      <td>image_1008141237_product_436067568.jpg</td>\n",
       "      <td>160</td>\n",
       "      <td>340</td>\n",
       "      <td>119</td>\n",
       "      <td>380</td>\n",
       "    </tr>\n",
       "    <tr>\n",
       "      <th>2</th>\n",
       "      <td>50</td>\n",
       "      <td>2</td>\n",
       "      <td>image_938777978_product_201115110.jpg</td>\n",
       "      <td>75</td>\n",
       "      <td>424</td>\n",
       "      <td>70</td>\n",
       "      <td>428</td>\n",
       "    </tr>\n",
       "    <tr>\n",
       "      <th>3</th>\n",
       "      <td>1280</td>\n",
       "      <td>7</td>\n",
       "      <td>image_457047496_product_50418756.jpg</td>\n",
       "      <td>84</td>\n",
       "      <td>416</td>\n",
       "      <td>57</td>\n",
       "      <td>442</td>\n",
       "    </tr>\n",
       "    <tr>\n",
       "      <th>4</th>\n",
       "      <td>2705</td>\n",
       "      <td>25</td>\n",
       "      <td>image_1077757786_product_278535884.jpg</td>\n",
       "      <td>161</td>\n",
       "      <td>338</td>\n",
       "      <td>100</td>\n",
       "      <td>395</td>\n",
       "    </tr>\n",
       "  </tbody>\n",
       "</table>\n",
       "</div>"
      ],
      "text/plain": [
       "   prdtypecode  codes                                      img   x1   x2   y1  \\\n",
       "0           10      0  image_1263597046_product_3804725264.jpg  183  316  150   \n",
       "1         2280     18   image_1008141237_product_436067568.jpg  160  340  119   \n",
       "2           50      2    image_938777978_product_201115110.jpg   75  424   70   \n",
       "3         1280      7     image_457047496_product_50418756.jpg   84  416   57   \n",
       "4         2705     25   image_1077757786_product_278535884.jpg  161  338  100   \n",
       "\n",
       "    y2  \n",
       "0  350  \n",
       "1  380  \n",
       "2  428  \n",
       "3  442  \n",
       "4  395  "
      ]
     },
     "execution_count": 49,
     "metadata": {},
     "output_type": "execute_result"
    }
   ],
   "source": [
    "df_bb = df[[\"prdtypecode\", \"codes\", \"img\", \"x1\", \"x2\", \"y1\", \"y2\"]]\n",
    "df_bb.head()"
   ]
  },
  {
   "cell_type": "code",
   "execution_count": 50,
   "id": "6eb3ac81",
   "metadata": {},
   "outputs": [],
   "source": [
    "df_bb.to_csv(r'images_w_bounding_box.csv', index = False)"
   ]
  },
  {
   "cell_type": "code",
   "execution_count": 51,
   "id": "a7254d8c",
   "metadata": {},
   "outputs": [
    {
     "data": {
      "text/plain": [
       "(84916, 7)"
      ]
     },
     "execution_count": 51,
     "metadata": {},
     "output_type": "execute_result"
    }
   ],
   "source": [
    "df_bb.shape"
   ]
  },
  {
   "cell_type": "code",
   "execution_count": 43,
   "id": "9460d0ad",
   "metadata": {},
   "outputs": [
    {
     "data": {
      "text/plain": [
       "[183, 160]"
      ]
     },
     "execution_count": 43,
     "metadata": {},
     "output_type": "execute_result"
    }
   ],
   "source": [
    "x1"
   ]
  },
  {
   "cell_type": "code",
   "execution_count": 41,
   "id": "575e0c42",
   "metadata": {},
   "outputs": [
    {
     "name": "stdout",
     "output_type": "stream",
     "text": [
      "[183, 316, 150, 350]\n",
      "[160, 340, 119, 380]\n"
     ]
    }
   ],
   "source": [
    "for it in res_list[:2]:\n",
    "    \n",
    "    print(it)"
   ]
  },
  {
   "cell_type": "code",
   "execution_count": 32,
   "id": "e535fe5e",
   "metadata": {},
   "outputs": [],
   "source": [
    "# Function for contouring the largest container that includes all boxes and stores the new images within the /bb directory\n",
    "list_dim_bb = []\n",
    "\n",
    "def contouring(imag):\n",
    "    img_0 = cv2.imread(image_path + imag)\n",
    "    gray_image = cv2.cvtColor(img_0, cv2.COLOR_BGR2GRAY)\n",
    "    thresh_image = cv2.threshold(gray_image, 0, 255, cv2.THRESH_BINARY_INV + cv2.THRESH_OTSU)[1]\n",
    "    contours = cv2.findContours(thresh_image, cv2.RETR_EXTERNAL, cv2.CHAIN_APPROX_SIMPLE)\n",
    "    contours = contours[0] if len(contours) == 2 else contours[1]\n",
    "    size = 500\n",
    "    r, l, t, b = 0, 0, 0, 0\n",
    "    x, y, w, h = 0, 0, 0, 0\n",
    "    tup = ()\n",
    "    right, left, top, bottom = [], [], [], []\n",
    "    if len(contours) < 3:\n",
    "        for i in contours:\n",
    "            x,y,w,h = cv2.boundingRect(i)\n",
    "        #cv2.rectangle(img_0, (x, y), (x + w, y + h), (255,0,0), 4)\n",
    "        list_dim_bb = [x, x+w, y, y+h]\n",
    "    \n",
    "    else:\n",
    "        for i in contours:\n",
    "            x,y,w,h = cv2.boundingRect(i)\n",
    "            l = x\n",
    "            r = l + w\n",
    "            t = y\n",
    "            b = t + h\n",
    "            right.append(r)\n",
    "            top.append(t)\n",
    "            left.append(l)\n",
    "            bottom.append(b)\n",
    "            \n",
    "        x = min(left)\n",
    "        y = min(top)\n",
    "        w = (max(right)-min(left))\n",
    "        h = (max(bottom)-min(top))\n",
    "        list_dim_bb = [x, x+w, y, y+h]\n",
    "    #print(\"x\", x, \"y\", y, \"w_f\", w, \"h_f\", h_f)\n",
    "    # Draw the contour\n",
    "    #cv2.rectangle(img_0, (int(x), int(y)), (int(x + w), int(y + h)), (255,0,0), 4)\n",
    "    #return cv2.imwrite(image_path + 'bb/' + imag, img_0)\n",
    "    #plt.imshow(img_0)\n",
    "    return list_dim_bb\n",
    "    #return (x, x+w, y, y+h)\n",
    "    #return plt.imshow(img_0)"
   ]
  },
  {
   "cell_type": "code",
   "execution_count": 35,
   "id": "c0bdd51b",
   "metadata": {},
   "outputs": [
    {
     "data": {
      "text/plain": [
       "[183, 316, 150, 350]"
      ]
     },
     "execution_count": 35,
     "metadata": {},
     "output_type": "execute_result"
    }
   ],
   "source": [
    "\n",
    "contouring(df[\"img\"][0])"
   ]
  },
  {
   "cell_type": "code",
   "execution_count": null,
   "id": "945fc053",
   "metadata": {},
   "outputs": [],
   "source": []
  },
  {
   "cell_type": "code",
   "execution_count": null,
   "id": "41babe21",
   "metadata": {},
   "outputs": [],
   "source": [
    "list_dim = []\n",
    "for i in range(5):\n",
    "    list_dim.append(contouring(df[\"img\"][i]))"
   ]
  },
  {
   "cell_type": "code",
   "execution_count": null,
   "id": "948c8eea",
   "metadata": {},
   "outputs": [],
   "source": [
    "df[\"x1\"] = df[\"img\"].astype(\"str\").apply(lambda s: contouring(s)[0])"
   ]
  },
  {
   "cell_type": "code",
   "execution_count": null,
   "id": "6558c151",
   "metadata": {},
   "outputs": [],
   "source": [
    "for i in range(5):\n",
    "    print(df[\"img\"][i].astype(\"str\").apply(lambda s: contouring(s)[0]))"
   ]
  },
  {
   "cell_type": "code",
   "execution_count": null,
   "id": "366fc7c7",
   "metadata": {},
   "outputs": [],
   "source": [
    "df[\"coor\"][0] = df[\"img\"][0].astype(\"str\").apply(lambda s: contouring(s))\n"
   ]
  },
  {
   "cell_type": "code",
   "execution_count": null,
   "id": "a247671e",
   "metadata": {},
   "outputs": [],
   "source": [
    "df[\"coor\"] = df[\"img\"].apply(lambda s: contouring(s))"
   ]
  },
  {
   "cell_type": "code",
   "execution_count": null,
   "id": "b7e2cecd",
   "metadata": {},
   "outputs": [],
   "source": [
    "df.head()"
   ]
  },
  {
   "cell_type": "code",
   "execution_count": null,
   "id": "10cc4317",
   "metadata": {
    "scrolled": true
   },
   "outputs": [],
   "source": [
    "contouring(df[\"img\"][21624], \"image_train/\")"
   ]
  },
  {
   "cell_type": "code",
   "execution_count": null,
   "id": "0d801f3a",
   "metadata": {},
   "outputs": [],
   "source": [
    "contouring(df[\"img\"][1303], \"image_train/\")"
   ]
  },
  {
   "cell_type": "code",
   "execution_count": null,
   "id": "0e9aa43e",
   "metadata": {},
   "outputs": [],
   "source": [
    "contouring(df[\"img\"][0], \"image_train/\")"
   ]
  },
  {
   "cell_type": "code",
   "execution_count": null,
   "id": "e137956f",
   "metadata": {},
   "outputs": [],
   "source": []
  },
  {
   "cell_type": "code",
   "execution_count": null,
   "id": "76d1246a",
   "metadata": {},
   "outputs": [],
   "source": []
  },
  {
   "cell_type": "code",
   "execution_count": null,
   "id": "0a465925",
   "metadata": {},
   "outputs": [],
   "source": []
  },
  {
   "cell_type": "code",
   "execution_count": null,
   "id": "b1d96587",
   "metadata": {},
   "outputs": [],
   "source": []
  }
 ],
 "metadata": {
  "kernelspec": {
   "display_name": "Python 3 (ipykernel)",
   "language": "python",
   "name": "python3"
  },
  "language_info": {
   "codemirror_mode": {
    "name": "ipython",
    "version": 3
   },
   "file_extension": ".py",
   "mimetype": "text/x-python",
   "name": "python",
   "nbconvert_exporter": "python",
   "pygments_lexer": "ipython3",
   "version": "3.9.12"
  }
 },
 "nbformat": 4,
 "nbformat_minor": 5
}
